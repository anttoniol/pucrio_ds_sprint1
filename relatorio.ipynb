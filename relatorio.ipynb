{
  "nbformat": 4,
  "nbformat_minor": 0,
  "metadata": {
    "colab": {
      "provenance": []
    },
    "kernelspec": {
      "name": "python3",
      "display_name": "Python 3"
    },
    "language_info": {
      "name": "python"
    }
  },
  "cells": [
    {
      "cell_type": "markdown",
      "source": [
        "## **Definição do problema**\n",
        "\n",
        "**Descrição**\n",
        "\n",
        "Embora muitas pessoas tenham sido acometidas pelo covid-19, parece que alguns grupos de pacientes foram mais afetados do que outros, por diferentes motivos. Neste trabalho, será estudada a relação entre o número de infecções e óbitos pelo covid-19 e a cor da pele das pessoas infectadas. \n",
        "\n",
        "\n",
        "**Tipo de problema** \n",
        "\n",
        "Esse problema é de aprendizado não supervisionado, pois o algoritmo não recebe os resultados esperados durante o treinamento, precisando identificar regularidades entre os dados.\n",
        "\n",
        "**Hipótese**\n",
        "\n",
        "Pessoas afrodescendentes podem ter sido mais afetadas pelo covid-19 do que pessoas brancas.\n",
        "\n",
        "**Restrições e condições**\n",
        "\n",
        "Neste trabalho, os dados utilizados foram disponibilizados pela Fundação SEADE, referentes a vítimas de covid-19 do estado de São Paulo: https://repositorio.seade.gov.br/dataset/covid-19/resource/a730d5c1-7899-4455-8649-68e7e8cc1753\n",
        "\n",
        "\n",
        "**Atributos do dataset** \n",
        "\n",
        "As definições *dos* atributos a seguir também estão disponíveis em https://repositorio.seade.gov.br/dataset/covid-19/resource/f9692def-0c04-4329-8cf9-d1ebbc35c840\n",
        "\n",
        "1. codigo_ibge: código numérico do município no IBGE (7 dígitos) de residência do paciente\n",
        "2. nome_munic: nome do município de residência do paciente\n",
        "3. nome_drs: nome do departamento regional da saúde de residência do paciente\n",
        "4. obito: indica se o paciente veio a óbito por covid-19\n",
        "5. raca_cor: cor ou raça do paciente\n",
        "6. idade: idade do paciente\n",
        "7. cs_sexo sexo do paciente\n",
        "8. diagnostico_covid19: confirmação de covid-19\n",
        "9. asma: paciente tem asma\n",
        "10. cardiopatia: paciente tem cardiopatia\n",
        "11. diabetes: paciente tem diabetes\n",
        "12. doenca_hematologica: paciente tem doença hematológica\n",
        "13. doenca_hepatica: paciente tem doença hepática\n",
        "14. doenca_neurologica: paciente tem doença neurológica\n",
        "15. doenca_renal: paciente tem doença renal\n",
        "16. imunodepressao: paciente tem imunodepressão\n",
        "17. obesidade: paciente tem obesidade\n",
        "18. pneumopatia: paciente tem pneumopatia\n",
        "19. puerpera: paciente é puérpera\n",
        "20. sindrome_de_down: paciente tem síndrome de down"
      ],
      "metadata": {
        "id": "dSZsh68-RG8M"
      }
    },
    {
      "cell_type": "markdown",
      "source": [
        "## **Análise de dados**\n",
        "\n",
        "**Estatísticas descritivas**\n",
        "\n",
        "Há 20 atributos e, desconsiderando a primeira linha do csv (nome dos atributos), há 6578135 instâncias, conforme mostrado abaixo."
      ],
      "metadata": {
        "id": "H3_a0iHcviOZ"
      }
    },
    {
      "cell_type": "code",
      "source": [
        "import pandas as pd\n",
        "import matplotlib.pyplot as plt\n",
        "import numpy as np"
      ],
      "metadata": {
        "id": "7XGl4qpRvmPQ"
      },
      "execution_count": null,
      "outputs": []
    },
    {
      "cell_type": "code",
      "source": [
        "url = \"https://media.githubusercontent.com/media/anttoniol/pucrio_ds_sprint1/main/casos_obitos_raca_cor.csv\"\n",
        "dataframe = pd.read_csv(url, sep = \";\")\n",
        "len(dataframe.index)"
      ],
      "metadata": {
        "id": "yZ7RrfFN4mDE"
      },
      "execution_count": null,
      "outputs": []
    },
    {
      "cell_type": "code",
      "source": [
        "original_dataframe = dataframe.copy()"
      ],
      "metadata": {
        "id": "rWRMN6NwVaHO"
      },
      "execution_count": null,
      "outputs": []
    },
    {
      "cell_type": "markdown",
      "source": [
        "Segundo o dicionário de variáveis disponibilizado pela Fundação SEADE em https://repositorio.seade.gov.br/dataset/covid-19/resource/f9692def-0c04-4329-8cf9-d1ebbc35c840 , o tipo de dados dos atributos se divide em:\n",
        "\n",
        "1. Numérico: codigo_ibge, obito e idade\n",
        "2. Texto: restante dos atributos"
      ],
      "metadata": {
        "id": "RNX_Mpa4xyIN"
      }
    },
    {
      "cell_type": "markdown",
      "source": [
        "Observando apenas as 10 primeiras linhas, nota-se que o valor para o atributo \"raca_cor\" está como \"IGNORADO\" na maioria das instâncias. \n",
        "\n",
        "Além disso, para atributos como \"cardiopatia\" e \"diabetes\", há um valor numérico que, aparentemente, permite mais de uma interpretação, com base apenas no dicionário de variáveis disponibilizado pela Fundação SEADE. Por exemplo, na primeira linha, o valor \"9\" na coluna \"cardiopatia\" pode significar que, dentro de alguma escala (que não foi encontrada durante a realização deste trabalho), o fator de risco é 9, ou que o paciente possui 9 doenças pertencentes ao grupo de cardiopatias. Assim, a interpretação desses valores não é única."
      ],
      "metadata": {
        "id": "gvdM0Q1W3VeO"
      }
    },
    {
      "cell_type": "code",
      "source": [
        "dataframe.head(10)"
      ],
      "metadata": {
        "id": "_X8Z1fHw3Xby"
      },
      "execution_count": null,
      "outputs": []
    },
    {
      "cell_type": "markdown",
      "source": [
        "Neste trabalho, diferentemente do que é informado no dicionário de variáveis, decidiu-se considerar o atributo \"obito\" como do tipo booleano, em que \"true\" significa que o paciente faleceu, e \"false\" caso contrário. \n",
        "\n",
        "Além disso, decidiu-se considerar o atributo \"codigo_ibge\" como uma variável qualitativa, embora ele seja do tipo numérico, pois esse atributo não representa uma quantidade de algo, mas sim um identificador de um município.\n",
        "\n",
        "Manteve-se o tipo do atributo \"idade\" como numérico.\n",
        "\n",
        "Os atributos restantes foram considerados como do tipo numérico, embora o dicionário de variáveis informe que eles sejam do tipo texto. Essa decisão é devido ao fato de os valores desses atributos serem numéricos.\n",
        "\n",
        "A seguir, está o resumo estatístico das variáveis do tipo numérico, com exceção do \"codigo_ibge\". "
      ],
      "metadata": {
        "id": "kxquiyWP7ws9"
      }
    },
    {
      "cell_type": "code",
      "source": [
        "indexes = [\"idade\", \"asma\", \"cardiopatia\", \"diabetes\", \"doenca_hematologica\", \n",
        "          \"doenca_hepatica\", \"doenca_neurologica\", \"doenca_renal\", \n",
        "          \"imunodepressao\", \"obesidade\", \"pneumopatia\", \"puerpera\", \n",
        "          \"sindrome_de_down\"]\n",
        "          \n",
        "columns = [\"minimo\", \"maximo\", \"mediana\", \"moda\", \"media\", \"desvio_padrao\",\n",
        "           \"qtde_valores_ausentes\"]\n",
        "\n",
        "\n",
        "stat_dataframe = pd.DataFrame(index = indexes, columns = columns)"
      ],
      "metadata": {
        "id": "i6a1GsInpH94"
      },
      "execution_count": null,
      "outputs": []
    },
    {
      "cell_type": "code",
      "source": [
        "numeric_dataframe = dataframe.loc[:, indexes]\n",
        "\n",
        "for column in numeric_dataframe.columns:\n",
        "  stat_attribute = list()\n",
        "  stat_attribute.append(numeric_dataframe[column].min()) # Valor mínimo\n",
        "  stat_attribute.append(numeric_dataframe[column].max()) # Valor máximo\n",
        "  stat_attribute.append(numeric_dataframe[column].median()) # Valor mediano\n",
        "  stat_attribute.append(numeric_dataframe[column].mode().values) # Moda\n",
        "  stat_attribute.append(numeric_dataframe[column].mean()) # Valor médio\n",
        "  stat_attribute.append(numeric_dataframe[column].std()) # Desvio padrão\n",
        "  stat_attribute.append(numeric_dataframe[column].isna().sum()) # Quantidade de valores ausentes \n",
        "\n",
        "  stat_dataframe.loc[column] = stat_attribute.copy()\n",
        "\n",
        "stat_dataframe"
      ],
      "metadata": {
        "id": "Lo81BN7n6UZJ"
      },
      "execution_count": null,
      "outputs": []
    },
    {
      "cell_type": "markdown",
      "source": [
        "Percebe-se que as idades mínima e máxima não fazem sentido, pois nenhuma pessoa possui uma idade negativa e nenhuma pessoa vive por 2188 anos. "
      ],
      "metadata": {
        "id": "E_NQET4JDodi"
      }
    },
    {
      "cell_type": "markdown",
      "source": [
        "## **Visualizações**\n",
        "\n",
        "A seguir, está a distribuição de valores para cada atributo do _dataset_."
      ],
      "metadata": {
        "id": "-yyPaHcMEk4t"
      }
    },
    {
      "cell_type": "code",
      "source": [
        "def get_frequency(dataframe, column_name, dropna = True):\n",
        "  freq = dataframe[column_name].value_counts(dropna = dropna)\n",
        "  indexes_list = freq.index.values.tolist() \n",
        "  values_list = freq.values.tolist()\n",
        "  return indexes_list, values_list\n",
        "\n",
        "def get_new_lists(indexes_list, values_list, minimum_ratio = 0.2):\n",
        "  new_indexes_list = list()\n",
        "  new_values_list = list()\n",
        "  freq_others = 0\n",
        "\n",
        "  indexes_list_size = len(indexes_list)\n",
        "  sum_values = sum(values_list)\n",
        "\n",
        "  for i in range(indexes_list_size):\n",
        "    if values_list[i] / sum_values >= minimum_ratio:\n",
        "      new_indexes_list.append(str(indexes_list[i]))\n",
        "      new_values_list.append(values_list[i])\n",
        "    else:\n",
        "      freq_others += values_list[i]\n",
        "  \n",
        "  if freq_others > 0:\n",
        "    new_indexes_list.append(\"Outros\")\n",
        "    new_values_list.append(freq_others)\n",
        "\n",
        "  return new_indexes_list, new_values_list\n",
        "\n",
        "def set_axes(axes, x_label, y_label, title):\n",
        "  axes.set_xlabel(x_label)\n",
        "  axes.set_ylabel(y_label)\n",
        "  axes.set_title(title)\n",
        "  return axes\n",
        "\n",
        "def generate_horizontal_bar_figure(x_list, y_list, x_label, y_label, title):\n",
        "  y_pos = np.arange(len(y_list))\n",
        "\n",
        "  fig, axes = plt.subplots()\n",
        "  axes.barh(y_pos, x_list, align='center')\n",
        "  axes.set_yticks(y_pos, labels = y_list)\n",
        "  axes.invert_yaxis()\n",
        "  axes = set_axes(axes, x_label, y_label, title)\n",
        "\n",
        "  plt.show()\n",
        "\n",
        "def generate_vertical_bar_figure(x_list, y_list, x_label, y_label, title):\n",
        "  #y_pos = np.arange(len(y_list))\n",
        "\n",
        "  fig, axes = plt.subplots()\n",
        "  axes.bar(x_list, y_list, align='center')\n",
        "  #ax.set_yticks(y_pos, labels = y_list)\n",
        "  axes = set_axes(axes, x_label, y_label, title)\n",
        "\n",
        "  plt.show()\n"
      ],
      "metadata": {
        "id": "Mltx0Re-OOMu"
      },
      "execution_count": null,
      "outputs": []
    },
    {
      "cell_type": "code",
      "source": [
        "# Código IBGE: frequência\n",
        "\n",
        "indexes_list, values_list = get_frequency(dataframe, \"codigo_ibge\")\n",
        "new_indexes_list, new_values_list = get_new_lists(indexes_list, values_list, 0.01)\n",
        "generate_horizontal_bar_figure(new_values_list, new_indexes_list, 'Frequência', 'Código IBGE', 'Código IBGE: frequência')"
      ],
      "metadata": {
        "id": "yNv2LS3AqF5F"
      },
      "execution_count": null,
      "outputs": []
    },
    {
      "cell_type": "markdown",
      "source": [
        "Percebe-se que o município com código IBGE 3550308 obteve o maior número de infecções pelo covid-19. Segundo dados disponíveis em https://cidades.ibge.gov.br/brasil/sp/sao-paulo/panorama , esse código IBGE corresponde ao município de São Paulo."
      ],
      "metadata": {
        "id": "pT03tnYDGb5S"
      }
    },
    {
      "cell_type": "code",
      "source": [
        "# Nome do município : frequência\n",
        "\n",
        "indexes_list, values_list = get_frequency(dataframe, \"nome_munic\")\n",
        "new_indexes_list, new_values_list = get_new_lists(indexes_list, values_list, 0.01)\n",
        "generate_horizontal_bar_figure(new_values_list, new_indexes_list, 'Frequência', 'Nome do município', 'Nome do município: frequência')"
      ],
      "metadata": {
        "id": "a-tpDLqDqGdY"
      },
      "execution_count": null,
      "outputs": []
    },
    {
      "cell_type": "markdown",
      "source": [
        "Nota-se que o município com o maior número de casos de covid-19 é São Paulo, o que está de acordo com o gráfico gerado para o atributo anterior (codigo_ibge)."
      ],
      "metadata": {
        "id": "sl2ixqq1HLa7"
      }
    },
    {
      "cell_type": "code",
      "source": [
        "# Nome do DRS : frequência\n",
        "\n",
        "indexes_list, values_list = get_frequency(dataframe, \"nome_drs\")\n",
        "new_indexes_list, new_values_list = get_new_lists(indexes_list, values_list, 0.01)\n",
        "generate_horizontal_bar_figure(new_values_list, new_indexes_list, 'Frequência', 'Nome do DRS', 'Nome do DRS: frequência')"
      ],
      "metadata": {
        "id": "zmKrfdgH9Eka"
      },
      "execution_count": null,
      "outputs": []
    },
    {
      "cell_type": "markdown",
      "source": [
        "Com base no gráfico acima, conclui-se que o Departamento Regional de Saúde (DRS) com maior registro de casos de covid-19 é o do município de São Paulo. "
      ],
      "metadata": {
        "id": "_oYxqMjWHn5U"
      }
    },
    {
      "cell_type": "code",
      "source": [
        "# Óbitos : frequência\n",
        "\n",
        "indexes_list, values_list = get_frequency(dataframe, \"obito\")\n",
        "new_indexes_list, new_values_list = get_new_lists(indexes_list, values_list, 0.01)\n",
        "generate_horizontal_bar_figure(new_values_list, new_indexes_list, 'Frequência', 'Óbito', 'Óbito: frequência')"
      ],
      "metadata": {
        "id": "dvenVSgK9phI"
      },
      "execution_count": null,
      "outputs": []
    },
    {
      "cell_type": "markdown",
      "source": [
        "Percebe-se, assim, que o número de óbitos foi baixo, comparado com a quantidade de pessoas que resistiram à infecção."
      ],
      "metadata": {
        "id": "8wLxzD4xIFvn"
      }
    },
    {
      "cell_type": "code",
      "source": [
        "# Raça/cor : frequência\n",
        "\n",
        "indexes_list, values_list = get_frequency(dataframe, \"raca_cor\")\n",
        "new_indexes_list, new_values_list = get_new_lists(indexes_list, values_list, 0.00025)\n",
        "generate_horizontal_bar_figure(new_values_list, new_indexes_list, 'Frequência', 'Raça/cor', 'Raça/cor: frequência')"
      ],
      "metadata": {
        "id": "QbCHyDHZ-Eau"
      },
      "execution_count": null,
      "outputs": []
    },
    {
      "cell_type": "markdown",
      "source": [
        "Surpreendentemente, a quantidade de pessoas brancas infectadas foi maior se comparada com a quantidade obtida para as outras raças/cores. \n",
        "\n",
        "Entretanto, é necessário considerar que os dados se referem aos casos registrados pelas autoridades, mas pode haver subnotificações em que a pessoa infectada não é branca. \n",
        "\n",
        "Além disso, no gráfico, há uma quantidade considerável de casos em que a raça/cor está como \"ignorado\", e as categorias \"parda\" e \"preta\" estão divididas em barras diferentes, além de haver uma categoria \"outros\". \n",
        "\n",
        "Seja _X_ a soma da quantidade de pessoas afrodescendentes presentes nas categorias \"ignorado\", \"parda\", \"preta\" e \"outros\". É possível que, nesse caso, seja menor a diferença entre _X_ e o valor obtido para a categoria \"branca\"."
      ],
      "metadata": {
        "id": "WBqFjipZIe5S"
      }
    },
    {
      "cell_type": "code",
      "source": [
        "# idade: frequência (histograma)\n",
        "\n",
        "dataframe.hist(column = \"idade\", bins = list(range(0, 131, 5)))"
      ],
      "metadata": {
        "id": "v5jRmT87GXQw"
      },
      "execution_count": null,
      "outputs": []
    },
    {
      "cell_type": "markdown",
      "source": [
        "Percebe-se que a distribuição de valores do atributo \"idade\" se assemelha a uma distribuição normal centrada em um valor próximo de 40. Assim, sem considerar os valores ausentes, parece que o grupo de pessoas de meia-idade foi mais afetado pela pandemia.\n",
        "\n",
        "Nesse histograma, os valores mínimo e máximo para a idade são, respectivamente, 0 e 130 pelo motivo mencionado na seção \"Estatísticas descritivas\"."
      ],
      "metadata": {
        "id": "k47EZbLnFE4j"
      }
    },
    {
      "cell_type": "code",
      "source": [
        "# Sexo : frequência\n",
        "\n",
        "indexes_list, values_list = get_frequency(dataframe, \"cs_sexo\")\n",
        "new_indexes_list, new_values_list = get_new_lists(indexes_list, values_list, 0.00025)\n",
        "generate_horizontal_bar_figure(new_values_list, new_indexes_list, 'Frequência', 'Sexo', 'Sexo: frequência')"
      ],
      "metadata": {
        "id": "4EaJaW9N-v3f"
      },
      "execution_count": null,
      "outputs": []
    },
    {
      "cell_type": "markdown",
      "source": [
        "Observa-se que as mulheres foram mais impactadas pela pandemia do que os homens."
      ],
      "metadata": {
        "id": "ZxiOaDe6F6L0"
      }
    },
    {
      "cell_type": "code",
      "source": [
        "# Confirmação de covid-19 : frequência\n",
        "\n",
        "indexes_list, values_list = get_frequency(dataframe, \"diagnostico_covid19\")\n",
        "new_indexes_list, new_values_list = get_new_lists(indexes_list, values_list, 0.01)\n",
        "generate_horizontal_bar_figure(new_values_list, new_indexes_list, 'Frequência', 'Confirmação de covid-19', 'Confirmação de covid-19: frequência')"
      ],
      "metadata": {
        "id": "9pT8G5Uy_f10"
      },
      "execution_count": null,
      "outputs": []
    },
    {
      "cell_type": "markdown",
      "source": [
        "Assim, todos os registros no _dataset_ se referem a casos confirmados de covid-19."
      ],
      "metadata": {
        "id": "Xej-HjL5L_uX"
      }
    },
    {
      "cell_type": "code",
      "source": [
        "# Asma : frequência\n",
        "\n",
        "indexes_list, values_list = get_frequency(dataframe, \"asma\", False)\n",
        "new_indexes_list, new_values_list = get_new_lists(indexes_list, values_list, 0.01)\n",
        "generate_horizontal_bar_figure(new_values_list, new_indexes_list, 'Frequência', 'Asma', 'Asma: frequência')"
      ],
      "metadata": {
        "id": "UPyYpCh8_gMF"
      },
      "execution_count": null,
      "outputs": []
    },
    {
      "cell_type": "markdown",
      "source": [
        "Percebe-se que os valores ausentes são a maioria para esse atributo."
      ],
      "metadata": {
        "id": "KyvKLVLsMt3B"
      }
    },
    {
      "cell_type": "code",
      "source": [
        "# Cardiopatia : frequência\n",
        "\n",
        "indexes_list, values_list = get_frequency(dataframe, \"cardiopatia\", False)\n",
        "new_indexes_list, new_values_list = get_new_lists(indexes_list, values_list, 0.01)\n",
        "generate_horizontal_bar_figure(new_values_list, new_indexes_list, 'Frequência', 'Cardiopatia', 'Cardiopatia: frequência')"
      ],
      "metadata": {
        "id": "bQFuagP4_gWG"
      },
      "execution_count": null,
      "outputs": []
    },
    {
      "cell_type": "markdown",
      "source": [
        "Nota-se que o valor mais frequente é o 9, mas, apenas baseado no dicionário de variáveis, não é possível entender o significado desse valor."
      ],
      "metadata": {
        "id": "b_DZ9Dw1M21G"
      }
    },
    {
      "cell_type": "code",
      "source": [
        "# Diabetes : frequência\n",
        "\n",
        "indexes_list, values_list = get_frequency(dataframe, \"diabetes\", False)\n",
        "new_indexes_list, new_values_list = get_new_lists(indexes_list, values_list, 0.01)\n",
        "generate_horizontal_bar_figure(new_values_list, new_indexes_list, 'Frequência', 'Diabetes', 'Diabetes: frequência')"
      ],
      "metadata": {
        "id": "ZWmgMy5R_gfr"
      },
      "execution_count": null,
      "outputs": []
    },
    {
      "cell_type": "markdown",
      "source": [
        "Nota-se que o valor mais frequente é o 9, mas, apenas baseado no dicionário de variáveis, não é possível entender o significado desse valor.\n",
        "\n",
        "\n"
      ],
      "metadata": {
        "id": "m-mFY6EhNVj9"
      }
    },
    {
      "cell_type": "code",
      "source": [
        "# Doença hematológica : frequência\n",
        "\n",
        "indexes_list, values_list = get_frequency(dataframe, \"doenca_hematologica\", False)\n",
        "new_indexes_list, new_values_list = get_new_lists(indexes_list, values_list, 0.01)\n",
        "generate_horizontal_bar_figure(new_values_list, new_indexes_list, 'Frequência', 'Doença hematológica', 'Doença hematológica: frequência')"
      ],
      "metadata": {
        "id": "YT1KsOXU_gpA"
      },
      "execution_count": null,
      "outputs": []
    },
    {
      "cell_type": "markdown",
      "source": [
        "Percebe-se que os valores ausentes são a maioria para esse atributo."
      ],
      "metadata": {
        "id": "rwvg_VTzNgS7"
      }
    },
    {
      "cell_type": "code",
      "source": [
        "# Doença hepática : frequência\n",
        "\n",
        "indexes_list, values_list = get_frequency(dataframe, \"doenca_hepatica\", False)\n",
        "new_indexes_list, new_values_list = get_new_lists(indexes_list, values_list, 0.01)\n",
        "generate_horizontal_bar_figure(new_values_list, new_indexes_list, 'Frequência', 'Doença hepática', 'Doença hepática: frequência')"
      ],
      "metadata": {
        "id": "TF4z9n-Y_gx6"
      },
      "execution_count": null,
      "outputs": []
    },
    {
      "cell_type": "markdown",
      "source": [
        "Percebe-se que os valores ausentes são a maioria para esse atributo."
      ],
      "metadata": {
        "id": "K9AWCvuVOEt0"
      }
    },
    {
      "cell_type": "code",
      "source": [
        "# Doença neurológica : frequência\n",
        "\n",
        "indexes_list, values_list = get_frequency(dataframe, \"doenca_neurologica\", False)\n",
        "new_indexes_list, new_values_list = get_new_lists(indexes_list, values_list, 0.01)\n",
        "generate_horizontal_bar_figure(new_values_list, new_indexes_list, 'Frequência', 'Doença neurológica', 'Doença neurológica: frequência')"
      ],
      "metadata": {
        "id": "aI60D5TO_g8A"
      },
      "execution_count": null,
      "outputs": []
    },
    {
      "cell_type": "markdown",
      "source": [
        "Percebe-se que os valores ausentes são a maioria para esse atributo."
      ],
      "metadata": {
        "id": "rchmHWxtOLlS"
      }
    },
    {
      "cell_type": "code",
      "source": [
        "# Doença renal : frequência\n",
        "\n",
        "indexes_list, values_list = get_frequency(dataframe, \"doenca_renal\", False)\n",
        "new_indexes_list, new_values_list = get_new_lists(indexes_list, values_list, 0.01)\n",
        "generate_horizontal_bar_figure(new_values_list, new_indexes_list, 'Frequência', 'Doença renal', 'Doença renal: frequência')"
      ],
      "metadata": {
        "id": "ea8wcT4f_hEj"
      },
      "execution_count": null,
      "outputs": []
    },
    {
      "cell_type": "markdown",
      "source": [
        "Nota-se que o valor mais frequente é o 9, mas, apenas baseado no dicionário de variáveis, não é possível entender o significado desse valor."
      ],
      "metadata": {
        "id": "jSstOeoTORmI"
      }
    },
    {
      "cell_type": "code",
      "source": [
        "# Imunodepressão : frequência\n",
        "\n",
        "indexes_list, values_list = get_frequency(dataframe, \"imunodepressao\", False)\n",
        "new_indexes_list, new_values_list = get_new_lists(indexes_list, values_list, 0.01)\n",
        "generate_horizontal_bar_figure(new_values_list, new_indexes_list, 'Frequência', 'Imunodepressão', 'Imunodepressão: frequência')"
      ],
      "metadata": {
        "id": "VOhcDujT_hO7"
      },
      "execution_count": null,
      "outputs": []
    },
    {
      "cell_type": "markdown",
      "source": [
        "Nota-se que o valor mais frequente é o 9, mas, apenas baseado no dicionário de variáveis, não é possível entender o significado desse valor."
      ],
      "metadata": {
        "id": "tH8ZKHITPkIt"
      }
    },
    {
      "cell_type": "code",
      "source": [
        "# Obesidade : frequência\n",
        "\n",
        "indexes_list, values_list = get_frequency(dataframe, \"obesidade\", False)\n",
        "new_indexes_list, new_values_list = get_new_lists(indexes_list, values_list, 0.01)\n",
        "generate_horizontal_bar_figure(new_values_list, new_indexes_list, 'Frequência', 'Obesidade', 'Obesidade: frequência')"
      ],
      "metadata": {
        "id": "_Dt3BJGX_hXE"
      },
      "execution_count": null,
      "outputs": []
    },
    {
      "cell_type": "markdown",
      "source": [
        "Percebe-se que os valores ausentes são a maioria para esse atributo."
      ],
      "metadata": {
        "id": "aEqy4oF-Pm_a"
      }
    },
    {
      "cell_type": "code",
      "source": [
        "# Pneumopatia : frequência\n",
        "\n",
        "indexes_list, values_list = get_frequency(dataframe, \"pneumopatia\", False)\n",
        "new_indexes_list, new_values_list = get_new_lists(indexes_list, values_list, 0.01)\n",
        "generate_horizontal_bar_figure(new_values_list, new_indexes_list, 'Frequência', 'Pneumopatia', 'Pneumopatia: frequência')"
      ],
      "metadata": {
        "id": "wt4YnQaRDbE5"
      },
      "execution_count": null,
      "outputs": []
    },
    {
      "cell_type": "markdown",
      "source": [
        "Percebe-se que os valores ausentes são a maioria para esse atributo."
      ],
      "metadata": {
        "id": "2aacLJmDPwk2"
      }
    },
    {
      "cell_type": "code",
      "source": [
        "# Puérpera : frequência\n",
        "\n",
        "indexes_list, values_list = get_frequency(dataframe, \"puerpera\", False)\n",
        "new_indexes_list, new_values_list = get_new_lists(indexes_list, values_list, 0.01)\n",
        "generate_horizontal_bar_figure(new_values_list, new_indexes_list, 'Frequência', 'Puérpera', 'Puérpera: frequência')"
      ],
      "metadata": {
        "id": "KYbQWHdnDkx_"
      },
      "execution_count": null,
      "outputs": []
    },
    {
      "cell_type": "markdown",
      "source": [
        "Percebe-se que os valores ausentes são a maioria para esse atributo."
      ],
      "metadata": {
        "id": "vEeAF53FQBAb"
      }
    },
    {
      "cell_type": "code",
      "source": [
        "# Síndrome de down : frequência\n",
        "\n",
        "indexes_list, values_list = get_frequency(dataframe, \"sindrome_de_down\", False)\n",
        "new_indexes_list, new_values_list = get_new_lists(indexes_list, values_list, 0.01)\n",
        "generate_horizontal_bar_figure(new_values_list, new_indexes_list, 'Frequência', 'Síndrome de down', 'Síndrome de down: frequência')"
      ],
      "metadata": {
        "id": "DdBRdmX5DlPX"
      },
      "execution_count": null,
      "outputs": []
    },
    {
      "cell_type": "markdown",
      "source": [
        "Percebe-se que os valores ausentes são a maioria para esse atributo."
      ],
      "metadata": {
        "id": "1nMK5o1UQMP5"
      }
    },
    {
      "cell_type": "markdown",
      "source": [
        "## **Pré-processamento de dados**\n",
        "\n",
        "Nesta etapa, serão realizadas algumas operações para melhorar a qualidade dos dados."
      ],
      "metadata": {
        "id": "jlFPdtx4RPqz"
      }
    },
    {
      "cell_type": "markdown",
      "source": [
        "### **Substituição de valores** \n",
        "\n",
        "**codigo_ibge**\n",
        "\n",
        "Os valores faltantes serão substituídos pelo valor \"DESCONHECIDO\":"
      ],
      "metadata": {
        "id": "ubuT_hVHHVbW"
      }
    },
    {
      "cell_type": "code",
      "source": [
        "def replace_na_values(dataframe, column_name, new_value):\n",
        "  new_column = dataframe[column_name].fillna(new_value)\n",
        "  dataframe[column_name] = new_column\n",
        "  return dataframe\n",
        "\n"
      ],
      "metadata": {
        "id": "xGev-abHO3jW"
      },
      "execution_count": null,
      "outputs": []
    },
    {
      "cell_type": "code",
      "source": [
        "dataframe_ = replace_na_values(dataframe, \"codigo_ibge\", \"DESCONHECIDO\")\n",
        "dataframe"
      ],
      "metadata": {
        "id": "dO3EEflEFTn_"
      },
      "execution_count": null,
      "outputs": []
    },
    {
      "cell_type": "markdown",
      "source": [
        "**nome_munic**\n",
        "\n",
        "Os valores faltantes serão substituídos pelo valor \"DESCONHECIDO\":"
      ],
      "metadata": {
        "id": "VePVQx76Nmis"
      }
    },
    {
      "cell_type": "code",
      "source": [
        "dataframe = replace_na_values(dataframe, \"nome_munic\", \"DESCONHECIDO\")\n",
        "dataframe"
      ],
      "metadata": {
        "id": "z2zcSZ70N7h4"
      },
      "execution_count": null,
      "outputs": []
    },
    {
      "cell_type": "markdown",
      "source": [
        "**nome_drs**\n",
        "\n",
        "Os valores faltantes serão substituídos pelo valor \"DESCONHECIDO\":"
      ],
      "metadata": {
        "id": "YJFWc-M7QErO"
      }
    },
    {
      "cell_type": "code",
      "source": [
        "dataframe = replace_na_values(dataframe, \"nome_drs\", \"DESCONHECIDO\")\n",
        "dataframe"
      ],
      "metadata": {
        "id": "MZ-pBNL1QPrI"
      },
      "execution_count": null,
      "outputs": []
    },
    {
      "cell_type": "markdown",
      "source": [
        "**obito**\n",
        "\n",
        "Os valores faltantes serão substituídos pelo valor \"DESCONHECIDO\". Além disso, para facilitar a compreensão, o valor booleano \"False\" será substituído por \"NÃO\"; o valor booleano \"True\", por \"SIM\"."
      ],
      "metadata": {
        "id": "kfCXNXX7QXYs"
      }
    },
    {
      "cell_type": "code",
      "source": [
        "dataframe = replace_na_values(dataframe, \"obito\", \"DESCONHECIDO\")\n",
        "dataframe[\"obito\"].replace(False, \"NÃO\", inplace = True)\n",
        "dataframe[\"obito\"].replace(True, \"SIM\", inplace = True)\n",
        "dataframe\n"
      ],
      "metadata": {
        "id": "eI5GyXgsQgm7"
      },
      "execution_count": null,
      "outputs": []
    },
    {
      "cell_type": "markdown",
      "source": [
        "**raca_cor**\n",
        "\n",
        "Os valores faltantes serão substituídos pelo valor \"DESCONHECIDA\". Além disso, os valores \"PARDA\" e \"PRETA\" serão substituídos por \"AFRODESCENDENTE\", para que a hipótese deste trabalho possa ser respondida.\n"
      ],
      "metadata": {
        "id": "RQe5ssSvWc4y"
      }
    },
    {
      "cell_type": "code",
      "source": [
        "def replace_string_values(dataframe, column_name, replacement_dict):\n",
        "  for key in replacement_dict:\n",
        "    column =  dataframe[column_name].str.replace(key, replacement_dict[key], regex = True)\n",
        "    dataframe[column_name] = column\n",
        "  return dataframe"
      ],
      "metadata": {
        "id": "FjOpsb90qj0-"
      },
      "execution_count": null,
      "outputs": []
    },
    {
      "cell_type": "code",
      "source": [
        "dataframe = replace_na_values(dataframe, \"raca_cor\", \"DESCONHECIDA\")\n",
        "replacement_dict = {\n",
        "    \"PRETA|PARDA\": \"AFRODESCENDENTE\",\n",
        "    \"NONE\": \"NENHUMA\"\n",
        "}\n",
        "dataframe = replace_string_values(dataframe, \"raca_cor\", replacement_dict)\n",
        "dataframe"
      ],
      "metadata": {
        "id": "1bA1VNbPbONX"
      },
      "execution_count": null,
      "outputs": []
    },
    {
      "cell_type": "markdown",
      "source": [
        "**idade**\n",
        "\n",
        "Os valores faltantes serão substituídos pela mediana do atributo, para que todos os valores desse atributo sejam numéricos. A mesma coisa será feita para valores menores que -1 ou maiores do que ou iguais a 130."
      ],
      "metadata": {
        "id": "HceD4p6Zddkq"
      }
    },
    {
      "cell_type": "code",
      "source": [
        "median = dataframe[\"idade\"].median()\n",
        "dataframe = replace_na_values(dataframe, \"idade\", median)\n",
        "first_filter = dataframe[\"idade\"] <= -1\n",
        "second_filter = dataframe[\"idade\"] >= 130\n",
        "dataframe.loc[first_filter | second_filter, \"idade\"] = median\n",
        "dataframe"
      ],
      "metadata": {
        "id": "OmCXApK7eiPy"
      },
      "execution_count": null,
      "outputs": []
    },
    {
      "cell_type": "markdown",
      "source": [
        "**cs_sexo**\n",
        "\n",
        "Os valores faltantes serão substituídos pelo valor \"DESCONHECIDO\"."
      ],
      "metadata": {
        "id": "BPSY-bUVe1y1"
      }
    },
    {
      "cell_type": "code",
      "source": [
        "dataframe = replace_na_values(dataframe, \"cs_sexo\", \"DESCONHECIDO\")\n",
        "dataframe"
      ],
      "metadata": {
        "id": "iXsA7oWae-ru"
      },
      "execution_count": null,
      "outputs": []
    },
    {
      "cell_type": "markdown",
      "source": [
        "**diagnostico_covid19**\n",
        "\n",
        "Os valores faltantes serão substituídos pelo valor \"DESCONHECIDO\"."
      ],
      "metadata": {
        "id": "QVw-vzXlfW2E"
      }
    },
    {
      "cell_type": "code",
      "source": [
        "dataframe = replace_na_values(dataframe, \"diagnostico_covid19\", \"DESCONHECIDO\")\n",
        "dataframe"
      ],
      "metadata": {
        "id": "oGfdpD6QffRg"
      },
      "execution_count": null,
      "outputs": []
    },
    {
      "cell_type": "markdown",
      "source": [
        "**asma**\n",
        "\n",
        "Os valores faltantes serão substituídos pela mediana do atributo, para que todos os valores desse atributo sejam numéricos."
      ],
      "metadata": {
        "id": "-n43fANEfyRt"
      }
    },
    {
      "cell_type": "code",
      "source": [
        "def replace_na_values_with_median(dataframe, column_name):\n",
        "  median = dataframe[column_name].median()\n",
        "  dataframe = replace_na_values(dataframe, column_name, median)\n",
        "  return dataframe"
      ],
      "metadata": {
        "id": "gndv3-V39Ymw"
      },
      "execution_count": null,
      "outputs": []
    },
    {
      "cell_type": "code",
      "source": [
        "replace_na_values_with_median(dataframe, \"asma\")"
      ],
      "metadata": {
        "id": "cgIXGZRPf6QF"
      },
      "execution_count": null,
      "outputs": []
    },
    {
      "cell_type": "markdown",
      "source": [
        "**cardiopatia**\n",
        "\n",
        "Os valores faltantes serão substituídos pela mediana do atributo, para que todos os valores desse atributo sejam numéricos."
      ],
      "metadata": {
        "id": "f0GzH483fzz1"
      }
    },
    {
      "cell_type": "code",
      "source": [
        "replace_na_values_with_median(dataframe, \"cardiopatia\")"
      ],
      "metadata": {
        "id": "NOgpxo6wgAjT"
      },
      "execution_count": null,
      "outputs": []
    },
    {
      "cell_type": "markdown",
      "source": [
        "**diabetes**\n",
        "\n",
        "Os valores faltantes serão substituídos pela mediana do atributo, para que todos os valores desse atributo sejam numéricos."
      ],
      "metadata": {
        "id": "P7riWwwwfz_8"
      }
    },
    {
      "cell_type": "code",
      "source": [
        "replace_na_values_with_median(dataframe, \"diabetes\")"
      ],
      "metadata": {
        "id": "Q2JkV7XigBMq"
      },
      "execution_count": null,
      "outputs": []
    },
    {
      "cell_type": "markdown",
      "source": [
        "**doenca_hematologica**\n",
        "\n",
        "Os valores faltantes serão substituídos pela mediana do atributo, para que todos os valores desse atributo sejam numéricos."
      ],
      "metadata": {
        "id": "Lx5jklobf0FA"
      }
    },
    {
      "cell_type": "code",
      "source": [
        "replace_na_values_with_median(dataframe, \"doenca_hematologica\")"
      ],
      "metadata": {
        "id": "EAJGe62vgBoN"
      },
      "execution_count": null,
      "outputs": []
    },
    {
      "cell_type": "markdown",
      "source": [
        "**doenca_hepatica**\n",
        "\n",
        "Os valores faltantes serão substituídos pela mediana do atributo, para que todos os valores desse atributo sejam numéricos."
      ],
      "metadata": {
        "id": "oOK_lQM-f0Hm"
      }
    },
    {
      "cell_type": "code",
      "source": [
        "replace_na_values_with_median(dataframe, \"doenca_hepatica\")"
      ],
      "metadata": {
        "id": "ux4xRUGAgCCg"
      },
      "execution_count": null,
      "outputs": []
    },
    {
      "cell_type": "markdown",
      "source": [
        "**doenca_neurológica**\n",
        "\n",
        "Os valores faltantes serão substituídos pela mediana do atributo, para que todos os valores desse atributo sejam numéricos."
      ],
      "metadata": {
        "id": "GbEb8d6Gf0Jz"
      }
    },
    {
      "cell_type": "code",
      "source": [
        "replace_na_values_with_median(dataframe, \"doenca_neurologica\")"
      ],
      "metadata": {
        "id": "cKQxyo5VgCdp"
      },
      "execution_count": null,
      "outputs": []
    },
    {
      "cell_type": "markdown",
      "source": [
        "**doenca_renal**\n",
        "\n",
        "Os valores faltantes serão substituídos pela mediana do atributo, para que todos os valores desse atributo sejam numéricos."
      ],
      "metadata": {
        "id": "TF2HTfGBf0L6"
      }
    },
    {
      "cell_type": "code",
      "source": [
        "replace_na_values_with_median(dataframe, \"doenca_renal\")"
      ],
      "metadata": {
        "id": "iSKtl5L6gC4V"
      },
      "execution_count": null,
      "outputs": []
    },
    {
      "cell_type": "markdown",
      "source": [
        "**imunodepressao**\n",
        "\n",
        "Os valores faltantes serão substituídos pela mediana do atributo, para que todos os valores desse atributo sejam numéricos."
      ],
      "metadata": {
        "id": "o8N3vR_ehvAD"
      }
    },
    {
      "cell_type": "code",
      "source": [
        "replace_na_values_with_median(dataframe, \"imunodepressao\")"
      ],
      "metadata": {
        "id": "AuSv31-bh3hV"
      },
      "execution_count": null,
      "outputs": []
    },
    {
      "cell_type": "markdown",
      "source": [
        "**obesidade**\n",
        "\n",
        "Os valores faltantes serão substituídos pela mediana do atributo, para que todos os valores desse atributo sejam numéricos."
      ],
      "metadata": {
        "id": "cNQSeO1RhzmC"
      }
    },
    {
      "cell_type": "code",
      "source": [
        "replace_na_values_with_median(dataframe, \"obesidade\")"
      ],
      "metadata": {
        "id": "VlYgEDEth395"
      },
      "execution_count": null,
      "outputs": []
    },
    {
      "cell_type": "markdown",
      "source": [
        "**pneumopatia**\n",
        "\n",
        "Os valores faltantes serão substituídos pela mediana do atributo, para que todos os valores desse atributo sejam numéricos."
      ],
      "metadata": {
        "id": "j3_ItGe7h1GC"
      }
    },
    {
      "cell_type": "code",
      "source": [
        "replace_na_values_with_median(dataframe, \"pneumopatia\")"
      ],
      "metadata": {
        "id": "jEKJB4rph4VQ"
      },
      "execution_count": null,
      "outputs": []
    },
    {
      "cell_type": "markdown",
      "source": [
        "**puerpera**\n",
        "\n",
        "Os valores faltantes serão substituídos pela mediana do atributo, para que todos os valores desse atributo sejam numéricos."
      ],
      "metadata": {
        "id": "II2T6S8xh1TI"
      }
    },
    {
      "cell_type": "code",
      "source": [
        "replace_na_values_with_median(dataframe, \"puerpera\")"
      ],
      "metadata": {
        "id": "vqO--s7Nh4wh"
      },
      "execution_count": null,
      "outputs": []
    },
    {
      "cell_type": "markdown",
      "source": [
        "**sindrome_de_down**\n",
        "\n",
        "Os valores faltantes serão substituídos pela mediana do atributo, para que todos os valores desse atributo sejam numéricos."
      ],
      "metadata": {
        "id": "HNF0LVvhh1Xl"
      }
    },
    {
      "cell_type": "code",
      "source": [
        "replace_na_values_with_median(dataframe, \"sindrome_de_down\")"
      ],
      "metadata": {
        "id": "n_pYvEZ7h5RU"
      },
      "execution_count": null,
      "outputs": []
    },
    {
      "cell_type": "markdown",
      "source": [
        "A célula a seguir gera um arquivo csv a partir do dataframe obtido após as substituições de valores. Uma cópia desse arquivo está no repositório, no arquivo \"substitution_result.zip\"."
      ],
      "metadata": {
        "id": "IBzopCwilY07"
      }
    },
    {
      "cell_type": "code",
      "source": [
        "dataframe.to_csv(\"substitution_result.csv\", sep = \";\", compression = None)"
      ],
      "metadata": {
        "id": "NzZvrqmahRVR"
      },
      "execution_count": null,
      "outputs": []
    },
    {
      "cell_type": "markdown",
      "source": [
        "### **Dummy encoding** \n",
        "\n",
        "Na versão gratuita do Google Colab, não foi possível obter o dataframe resultante do dummy encoding, e a seguinte mensagem é mostrada:\n",
        "\n",
        "![falha_ram.png](data:image/png;base64,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)\n",
        "\n",
        "Entretanto, foi possível obter o arquivo csv localmente, utilizando a IDE PyCharm, e o resultado está disponível no repositório deste trabalho, no arquivo \"dummy_dataframe.zip\"."
      ],
      "metadata": {
        "id": "wKP5bXTIBbFS"
      }
    },
    {
      "cell_type": "code",
      "source": [
        "\"\"\" Descomente o comando a seguir para tentar fazer o dummy encoding no dataset.\n",
        "O comando abaixo está comentado, para não haver problemas caso as células do notebook \n",
        "sejam executadas de uma só vez.\n",
        "\"\"\"\n",
        "\n",
        "columns = [\"nome_munic\", \"nome_drs\", \"obito\", \"raca_cor\", \"cs_sexo\", \"diagnostico_covid19\"]\n",
        "# pd.get_dummies(dataframe, columns = columns, drop_first = True)"
      ],
      "metadata": {
        "id": "JgBQJjHYI7LO"
      },
      "execution_count": null,
      "outputs": []
    },
    {
      "cell_type": "markdown",
      "source": [
        "## **Revisitando a etapa de análise exploratória**\n",
        "\n",
        "A seguir, está a distribuição dos valores de cada atributo do _dataset_, utilizando o dataframe obtido na etapa de pré-processamento de dados.\n"
      ],
      "metadata": {
        "id": "sO4fFn7Lkqyd"
      }
    },
    {
      "cell_type": "code",
      "source": [
        "# Código IBGE: frequência\n",
        "\n",
        "indexes_list, values_list = get_frequency(dataframe, \"codigo_ibge\")\n",
        "new_indexes_list, new_values_list = get_new_lists(indexes_list, values_list, 0.01)\n",
        "generate_horizontal_bar_figure(new_values_list, new_indexes_list, 'Frequência', 'Código IBGE', 'Código IBGE: frequência')"
      ],
      "metadata": {
        "id": "C4ioh283nEiT"
      },
      "execution_count": null,
      "outputs": []
    },
    {
      "cell_type": "markdown",
      "source": [
        "Não houve mudanças aparentes entre os dois gráficos gerados para esse atributo."
      ],
      "metadata": {
        "id": "0HOXc5ST_OIm"
      }
    },
    {
      "cell_type": "code",
      "source": [
        "# Nome do município: frequência\n",
        "\n",
        "indexes_list, values_list = get_frequency(dataframe, \"nome_munic\")\n",
        "new_indexes_list, new_values_list = get_new_lists(indexes_list, values_list, 0.01)\n",
        "generate_horizontal_bar_figure(new_values_list, new_indexes_list, 'Frequência', 'Nome do município', 'Nome do município: frequência')"
      ],
      "metadata": {
        "id": "emwUOdafoL5V"
      },
      "execution_count": null,
      "outputs": []
    },
    {
      "cell_type": "markdown",
      "source": [
        "Não houve mudanças aparentes entre os dois gráficos gerados para esse atributo."
      ],
      "metadata": {
        "id": "q_i9zW4E_nW9"
      }
    },
    {
      "cell_type": "code",
      "source": [
        "# Nome do DRS : frequência\n",
        "\n",
        "indexes_list, values_list = get_frequency(dataframe, \"nome_drs\")\n",
        "new_indexes_list, new_values_list = get_new_lists(indexes_list, values_list, 0.01)\n",
        "generate_horizontal_bar_figure(new_values_list, new_indexes_list, 'Frequência', 'Nome do DRS', 'Nome do DRS: frequência')"
      ],
      "metadata": {
        "id": "8sh4UuaipLWT"
      },
      "execution_count": null,
      "outputs": []
    },
    {
      "cell_type": "markdown",
      "source": [
        "Não houve mudanças aparentes entre os dois gráficos gerados para esse atributo."
      ],
      "metadata": {
        "id": "R-qLSpKH_o2m"
      }
    },
    {
      "cell_type": "code",
      "source": [
        "# Óbitos : frequência\n",
        "\n",
        "indexes_list, values_list = get_frequency(dataframe, \"obito\")\n",
        "new_indexes_list, new_values_list = get_new_lists(indexes_list, values_list, 0.01)\n",
        "generate_horizontal_bar_figure(new_values_list, new_indexes_list, 'Frequência', 'Óbito', 'Óbito: frequência')"
      ],
      "metadata": {
        "id": "2kiKL0l4pRSQ"
      },
      "execution_count": null,
      "outputs": []
    },
    {
      "cell_type": "markdown",
      "source": [
        "Esse histograma está mais compreensível, devido à alteração dos valores booleanos para \"SIM\" ou \"NÃO\"."
      ],
      "metadata": {
        "id": "w5aJpcVN_qhN"
      }
    },
    {
      "cell_type": "code",
      "source": [
        "# Raça/cor : frequência\n",
        "\n",
        "indexes_list, values_list = get_frequency(dataframe, \"raca_cor\")\n",
        "new_indexes_list, new_values_list = get_new_lists(indexes_list, values_list, 0.00025)\n",
        "generate_horizontal_bar_figure(new_values_list, new_indexes_list, 'Frequência', 'Raça/cor', 'Raça/cor: frequência')"
      ],
      "metadata": {
        "id": "AYteJcVQparS"
      },
      "execution_count": null,
      "outputs": []
    },
    {
      "cell_type": "markdown",
      "source": [
        "Percebe-se a combinação das categorias \"PARDA\" E \"PRETA\" em uma só, com o nome \"AFRODESCENDENTE\", e também a diferença entre a frequência dessa categoria e a frequência da categoria \"BRANCA\". Conforme dito anteriormente, é possível que haja afrodescendentes categorizados como \"IGNORADO\" ou \"DESCONHECIDA\", o que poderia diminuir a diferença entre a frequência de brancos e a de afrodescendentes. "
      ],
      "metadata": {
        "id": "48509WDc_4MD"
      }
    },
    {
      "cell_type": "code",
      "source": [
        "# idade: frequência\n",
        "\n",
        "dataframe.hist(column = \"idade\", bins = 15)"
      ],
      "metadata": {
        "id": "DwncJ_oIvcMg"
      },
      "execution_count": null,
      "outputs": []
    },
    {
      "cell_type": "markdown",
      "source": [
        "Agora há apenas valores positivos e menores que 130, o que parece fazer mais sentido."
      ],
      "metadata": {
        "id": "bKpVqjtLBEMC"
      }
    },
    {
      "cell_type": "code",
      "source": [
        "# Sexo : frequência\n",
        "\n",
        "indexes_list, values_list = get_frequency(dataframe, \"cs_sexo\")\n",
        "new_indexes_list, new_values_list = get_new_lists(indexes_list, values_list, 0.00025)\n",
        "generate_horizontal_bar_figure(new_values_list, new_indexes_list, 'Frequência', 'Sexo', 'Sexo: frequência')"
      ],
      "metadata": {
        "id": "V2LS_YfZ3XsJ"
      },
      "execution_count": null,
      "outputs": []
    },
    {
      "cell_type": "markdown",
      "source": [
        "Não houve mudanças aparentes entre os dois gráficos gerados para esse atributo."
      ],
      "metadata": {
        "id": "PpaOJZwDBdg0"
      }
    },
    {
      "cell_type": "code",
      "source": [
        "# Confirmação de covid-19 : frequência\n",
        "\n",
        "indexes_list, values_list = get_frequency(dataframe, \"diagnostico_covid19\")\n",
        "new_indexes_list, new_values_list = get_new_lists(indexes_list, values_list, 0.01)\n",
        "generate_horizontal_bar_figure(new_values_list, new_indexes_list, 'Frequência', 'Confirmação de covid-19', 'Confirmação de covid-19: frequência')"
      ],
      "metadata": {
        "id": "kX98lNsw4hRI"
      },
      "execution_count": null,
      "outputs": []
    },
    {
      "cell_type": "markdown",
      "source": [
        "Não houve mudanças aparentes entre os dois gráficos gerados para esse atributo."
      ],
      "metadata": {
        "id": "7e1kxKYUBniL"
      }
    },
    {
      "cell_type": "code",
      "source": [
        "# Asma: frequência\n",
        "\n",
        "indexes_list, values_list = get_frequency(dataframe, \"asma\")\n",
        "new_indexes_list, new_values_list = get_new_lists(indexes_list, values_list, 0.01)\n",
        "generate_horizontal_bar_figure(new_values_list, new_indexes_list, 'Frequência', 'Asma', 'Asma: frequência')"
      ],
      "metadata": {
        "id": "KucGOi0d5O_G"
      },
      "execution_count": null,
      "outputs": []
    },
    {
      "cell_type": "markdown",
      "source": [
        "Observa-se que valor 2 é predominante, embora não seja possível entender o significado desse valor com base apenas no dicionário de variáveis."
      ],
      "metadata": {
        "id": "bm0mnCWQBsOM"
      }
    },
    {
      "cell_type": "code",
      "source": [
        "# Cardiopatia: frequência\n",
        "\n",
        "indexes_list, values_list = get_frequency(dataframe, \"cardiopatia\")\n",
        "new_indexes_list, new_values_list = get_new_lists(indexes_list, values_list, 0.01)\n",
        "generate_horizontal_bar_figure(new_values_list, new_indexes_list, 'Frequência', 'Cardiopatia', 'Cardiopatia: frequência')"
      ],
      "metadata": {
        "id": "UGDsUkj36-0M"
      },
      "execution_count": null,
      "outputs": []
    },
    {
      "cell_type": "markdown",
      "source": [
        "Observa-se que valor 9 é predominante, embora não seja possível entender o significado desse valor com base apenas no dicionário de variáveis."
      ],
      "metadata": {
        "id": "g9f_w_hZCNP2"
      }
    },
    {
      "cell_type": "code",
      "source": [
        "# Diabetes: frequência\n",
        "\n",
        "indexes_list, values_list = get_frequency(dataframe, \"diabetes\")\n",
        "new_indexes_list, new_values_list = get_new_lists(indexes_list, values_list, 0.01)\n",
        "generate_horizontal_bar_figure(new_values_list, new_indexes_list, 'Frequência', 'Diabetes', 'Diabetes: frequência')"
      ],
      "metadata": {
        "id": "VRo2r7DF7xzu"
      },
      "execution_count": null,
      "outputs": []
    },
    {
      "cell_type": "markdown",
      "source": [
        "Observa-se que valor 9 é predominante, embora não seja possível entender o significado desse valor com base apenas no dicionário de variáveis."
      ],
      "metadata": {
        "id": "oXqbDZvhCOdv"
      }
    },
    {
      "cell_type": "code",
      "source": [
        "# Doença hematológica: frequência\n",
        "\n",
        "indexes_list, values_list = get_frequency(dataframe, \"doenca_hematologica\")\n",
        "new_indexes_list, new_values_list = get_new_lists(indexes_list, values_list, 0.01)\n",
        "generate_horizontal_bar_figure(new_values_list, new_indexes_list, 'Frequência', 'Doença hematológica', 'Doença hematológica: frequência')"
      ],
      "metadata": {
        "id": "D0vmq5FI79fP"
      },
      "execution_count": null,
      "outputs": []
    },
    {
      "cell_type": "markdown",
      "source": [
        "Observa-se que valor 2 é predominante, embora não seja possível entender o significado desse valor com base apenas no dicionário de variáveis."
      ],
      "metadata": {
        "id": "CBA920vlCQiw"
      }
    },
    {
      "cell_type": "code",
      "source": [
        "# Doença hepática: frequência\n",
        "\n",
        "indexes_list, values_list = get_frequency(dataframe, \"doenca_hepatica\")\n",
        "new_indexes_list, new_values_list = get_new_lists(indexes_list, values_list, 0.01)\n",
        "generate_horizontal_bar_figure(new_values_list, new_indexes_list, 'Frequência', 'Doença hepática', 'Doença hepática: frequência')"
      ],
      "metadata": {
        "id": "_-UAswq687CQ"
      },
      "execution_count": null,
      "outputs": []
    },
    {
      "cell_type": "markdown",
      "source": [
        "Observa-se que valor 2 é predominante, embora não seja possível entender o significado desse valor com base apenas no dicionário de variáveis."
      ],
      "metadata": {
        "id": "IXoQ0CAICRma"
      }
    },
    {
      "cell_type": "code",
      "source": [
        "# Doença neurológica: frequência\n",
        "\n",
        "indexes_list, values_list = get_frequency(dataframe, \"doenca_neurologica\")\n",
        "new_indexes_list, new_values_list = get_new_lists(indexes_list, values_list, 0.01)\n",
        "generate_horizontal_bar_figure(new_values_list, new_indexes_list, 'Frequência', 'Doença neurológica', 'Doença neurológica: frequência')"
      ],
      "metadata": {
        "id": "ywAabLOz9H3K"
      },
      "execution_count": null,
      "outputs": []
    },
    {
      "cell_type": "markdown",
      "source": [
        "Observa-se que valor 2 é predominante, embora não seja possível entender o significado desse valor com base apenas no dicionário de variáveis."
      ],
      "metadata": {
        "id": "MsPVw9hiCTok"
      }
    },
    {
      "cell_type": "code",
      "source": [
        "# Doença renal: frequência\n",
        "\n",
        "indexes_list, values_list = get_frequency(dataframe, \"doenca_renal\")\n",
        "new_indexes_list, new_values_list = get_new_lists(indexes_list, values_list, 0.01)\n",
        "generate_horizontal_bar_figure(new_values_list, new_indexes_list, 'Frequência', 'Doença renal', 'Doença renal: frequência')"
      ],
      "metadata": {
        "id": "ERdtxPz79XRL"
      },
      "execution_count": null,
      "outputs": []
    },
    {
      "cell_type": "markdown",
      "source": [
        "Observa-se que valor 9 é predominante, embora não seja possível entender o significado desse valor com base apenas no dicionário de variáveis."
      ],
      "metadata": {
        "id": "Zr7PeYwnCWFz"
      }
    },
    {
      "cell_type": "code",
      "source": [
        "# Imunodepressão: frequência\n",
        "\n",
        "indexes_list, values_list = get_frequency(dataframe, \"imunodepressao\")\n",
        "new_indexes_list, new_values_list = get_new_lists(indexes_list, values_list, 0.01)\n",
        "generate_horizontal_bar_figure(new_values_list, new_indexes_list, 'Frequência', 'Imunodepressão', 'Imunodepressão: frequência')"
      ],
      "metadata": {
        "id": "eRB3DqKl9m6U"
      },
      "execution_count": null,
      "outputs": []
    },
    {
      "cell_type": "markdown",
      "source": [
        "Observa-se que valor 9 é predominante, embora não seja possível entender o significado desse valor com base apenas no dicionário de variáveis."
      ],
      "metadata": {
        "id": "xZOeIhr1CXFC"
      }
    },
    {
      "cell_type": "code",
      "source": [
        "# Obesidade: frequência\n",
        "\n",
        "indexes_list, values_list = get_frequency(dataframe, \"obesidade\")\n",
        "new_indexes_list, new_values_list = get_new_lists(indexes_list, values_list, 0.01)\n",
        "generate_horizontal_bar_figure(new_values_list, new_indexes_list, 'Frequência', 'Obesidade', 'Obesidade: frequência')"
      ],
      "metadata": {
        "id": "dYKyvJvE94EG"
      },
      "execution_count": null,
      "outputs": []
    },
    {
      "cell_type": "markdown",
      "source": [
        "Observa-se que valor 2 é predominante, embora não seja possível entender o significado desse valor com base apenas no dicionário de variáveis."
      ],
      "metadata": {
        "id": "JHbVsvpACYCe"
      }
    },
    {
      "cell_type": "code",
      "source": [
        "# Pneumopatia: frequência\n",
        "\n",
        "indexes_list, values_list = get_frequency(dataframe, \"pneumopatia\")\n",
        "new_indexes_list, new_values_list = get_new_lists(indexes_list, values_list, 0.01)\n",
        "generate_horizontal_bar_figure(new_values_list, new_indexes_list, 'Frequência', 'Pneumopatia', 'Pneumopatia: frequência')"
      ],
      "metadata": {
        "id": "KybJAzzL9-GV"
      },
      "execution_count": null,
      "outputs": []
    },
    {
      "cell_type": "markdown",
      "source": [
        "Observa-se que valor 2 é predominante, embora não seja possível entender o significado desse valor com base apenas no dicionário de variáveis."
      ],
      "metadata": {
        "id": "3ymeyZq0CZaf"
      }
    },
    {
      "cell_type": "code",
      "source": [
        "# Puérpera: frequência\n",
        "\n",
        "indexes_list, values_list = get_frequency(dataframe, \"puerpera\")\n",
        "new_indexes_list, new_values_list = get_new_lists(indexes_list, values_list, 0.01)\n",
        "generate_horizontal_bar_figure(new_values_list, new_indexes_list, 'Frequência', 'Puérpera', 'Puérpera: frequência')"
      ],
      "metadata": {
        "id": "fn6h9RiD-FT-"
      },
      "execution_count": null,
      "outputs": []
    },
    {
      "cell_type": "markdown",
      "source": [
        "Observa-se que valor 2 é predominante, embora não seja possível entender o significado desse valor com base apenas no dicionário de variáveis."
      ],
      "metadata": {
        "id": "E_1FwmyNCfxv"
      }
    },
    {
      "cell_type": "code",
      "source": [
        "# Síndrome de down: frequência\n",
        "\n",
        "indexes_list, values_list = get_frequency(dataframe, \"sindrome_de_down\")\n",
        "new_indexes_list, new_values_list = get_new_lists(indexes_list, values_list, 0.01)\n",
        "generate_horizontal_bar_figure(new_values_list, new_indexes_list, 'Frequência', 'Síndrome de down', 'Síndrome de down: frequência')"
      ],
      "metadata": {
        "id": "pxm2yT4o-Qa8"
      },
      "execution_count": null,
      "outputs": []
    },
    {
      "cell_type": "markdown",
      "source": [
        "Observa-se que valor 2 é predominante, embora não seja possível entender o significado desse valor com base apenas no dicionário de variáveis."
      ],
      "metadata": {
        "id": "sKXMIZCCCib9"
      }
    },
    {
      "cell_type": "markdown",
      "source": [
        "## **Conclusão preliminar**\n",
        "\n",
        "Com os dados obtidos até agora, ainda não é possível concluir, com base apenas no _dataset_, que os afrodescentes foram mais impactados pela pandemia do que os brancos. Talvez, com mais conhecimento sobre Ciência de Dados e _Machine Learning_ nas próximas sprints, seja possível obter um resultado mais satisfatório."
      ],
      "metadata": {
        "id": "g6A2v4EqnyVc"
      }
    }
  ]
}